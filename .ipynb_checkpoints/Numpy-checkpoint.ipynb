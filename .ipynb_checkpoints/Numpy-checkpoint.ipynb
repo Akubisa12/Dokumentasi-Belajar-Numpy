{
 "cells": [
  {
   "cell_type": "markdown",
   "id": "b7b6147c",
   "metadata": {},
   "source": [
    "# PENGERTIAN NUMPY"
   ]
  },
  {
   "cell_type": "markdown",
   "id": "2d928fbe",
   "metadata": {},
   "source": [
    "Numpy adalah paket dasar untuk komputasi ilmiah dalam bahasa Python(NumPy is the fundamental package for scientific computing in Python)"
   ]
  },
  {
   "cell_type": "markdown",
   "id": "bb73798a",
   "metadata": {},
   "source": [
    "# ARRAY NUMPY"
   ]
  },
  {
   "cell_type": "markdown",
   "id": "636b2740",
   "metadata": {},
   "source": [
    "Membuat Array Numpy"
   ]
  },
  {
   "cell_type": "code",
   "execution_count": 1,
   "id": "b5dfead3",
   "metadata": {},
   "outputs": [],
   "source": [
    "import numpy as np"
   ]
  },
  {
   "cell_type": "code",
   "execution_count": 2,
   "id": "b3eede8c",
   "metadata": {},
   "outputs": [],
   "source": [
    "#Membuat Array\n",
    "nilai_siswa = np.array([85,55,40,90])"
   ]
  },
  {
   "cell_type": "code",
   "execution_count": 3,
   "id": "0979fbd7",
   "metadata": {},
   "outputs": [
    {
     "name": "stdout",
     "output_type": "stream",
     "text": [
      "90\n"
     ]
    }
   ],
   "source": [
    "#Mengakses data pada Array\n",
    "print(nilai_siswa[3])"
   ]
  },
  {
   "cell_type": "markdown",
   "id": "602d0fcf",
   "metadata": {},
   "source": [
    "# MATRIX NUMPY"
   ]
  },
  {
   "cell_type": "markdown",
   "id": "6f300123",
   "metadata": {},
   "source": [
    "Membuat Matrix tanpa numpy"
   ]
  },
  {
   "cell_type": "code",
   "execution_count": 4,
   "id": "34f2c777",
   "metadata": {},
   "outputs": [],
   "source": [
    "matrix = [[1,2,3],\n",
    "         [4,5,6],\n",
    "         [7,8,9]]"
   ]
  },
  {
   "cell_type": "markdown",
   "id": "c2580f11",
   "metadata": {},
   "source": [
    "Membuat Matrix dengan numpy"
   ]
  },
  {
   "cell_type": "code",
   "execution_count": 5,
   "id": "13da98d9",
   "metadata": {},
   "outputs": [],
   "source": [
    "matrix_np = np.array([[1,2,3],[4,5,6],[7,8,9]])"
   ]
  },
  {
   "cell_type": "markdown",
   "id": "944e7d2d",
   "metadata": {},
   "source": [
    "Mengakses data Matrix dengan numpy"
   ]
  },
  {
   "cell_type": "code",
   "execution_count": 6,
   "id": "79c9bdc8",
   "metadata": {},
   "outputs": [
    {
     "name": "stdout",
     "output_type": "stream",
     "text": [
      "5\n"
     ]
    }
   ],
   "source": [
    "print(matrix_np[1][1])"
   ]
  },
  {
   "cell_type": "code",
   "execution_count": 7,
   "id": "de5bdfbb",
   "metadata": {},
   "outputs": [
    {
     "name": "stdout",
     "output_type": "stream",
     "text": [
      "3\n"
     ]
    }
   ],
   "source": [
    "print(matrix_np[0][2])"
   ]
  },
  {
   "cell_type": "markdown",
   "id": "c7f6838f",
   "metadata": {},
   "source": [
    "# OPERASI MATRIX DENGAN NUMPY"
   ]
  },
  {
   "cell_type": "markdown",
   "id": "00e6c877",
   "metadata": {},
   "source": [
    "Penjumlahan"
   ]
  },
  {
   "cell_type": "code",
   "execution_count": 11,
   "id": "135fbd53",
   "metadata": {},
   "outputs": [],
   "source": [
    "import numpy as np "
   ]
  },
  {
   "cell_type": "code",
   "execution_count": 14,
   "id": "27292a4f",
   "metadata": {},
   "outputs": [],
   "source": [
    "matrik_a = np.array([[1, 2, 3],[4, 5, 6],[7, 8, 9]])"
   ]
  },
  {
   "cell_type": "code",
   "execution_count": 17,
   "id": "c1135d88",
   "metadata": {},
   "outputs": [],
   "source": [
    "matrix_b = np.array([[3,2,1],[6,5,4],[9,8,7]])"
   ]
  },
  {
   "cell_type": "code",
   "execution_count": 20,
   "id": "44f440ca",
   "metadata": {},
   "outputs": [
    {
     "name": "stdout",
     "output_type": "stream",
     "text": [
      "[[ 4  4  4]\n",
      " [10 10 10]\n",
      " [16 16 16]]\n"
     ]
    }
   ],
   "source": [
    "hasil = matrik_a + matrix_b\n",
    "print(hasil)"
   ]
  },
  {
   "cell_type": "markdown",
   "id": "52f0df49",
   "metadata": {},
   "source": [
    "Pengurangan"
   ]
  },
  {
   "cell_type": "code",
   "execution_count": 21,
   "id": "978f0402",
   "metadata": {},
   "outputs": [],
   "source": [
    "matrik_a = np.array([[1, 2, 3],[4, 5, 6],[7, 8, 9]])"
   ]
  },
  {
   "cell_type": "code",
   "execution_count": 22,
   "id": "4ba4b6ba",
   "metadata": {},
   "outputs": [],
   "source": [
    "matrix_b = np.array([[3,2,1],[6,5,4],[9,8,7]])"
   ]
  },
  {
   "cell_type": "code",
   "execution_count": 23,
   "id": "b35b7eac",
   "metadata": {},
   "outputs": [
    {
     "name": "stdout",
     "output_type": "stream",
     "text": [
      "[[-2  0  2]\n",
      " [-2  0  2]\n",
      " [-2  0  2]]\n"
     ]
    }
   ],
   "source": [
    "hasil = matrik_a - matrix_b\n",
    "print(hasil)"
   ]
  },
  {
   "cell_type": "markdown",
   "id": "f07fd297",
   "metadata": {},
   "source": [
    "Perkalian"
   ]
  },
  {
   "cell_type": "code",
   "execution_count": 24,
   "id": "9bd39c93",
   "metadata": {},
   "outputs": [],
   "source": [
    "matrik_a = np.array([[1, 2, 3],[4, 5, 6],[7, 8, 9]])"
   ]
  },
  {
   "cell_type": "code",
   "execution_count": 25,
   "id": "13b1ba19",
   "metadata": {},
   "outputs": [],
   "source": [
    "matrix_b = np.array([[3,2,1],[6,5,4],[9,8,7]])"
   ]
  },
  {
   "cell_type": "code",
   "execution_count": 26,
   "id": "1cb4d2ca",
   "metadata": {},
   "outputs": [
    {
     "name": "stdout",
     "output_type": "stream",
     "text": [
      "[[ 3  4  3]\n",
      " [24 25 24]\n",
      " [63 64 63]]\n"
     ]
    }
   ],
   "source": [
    "hasil = matrik_a * matrix_b\n",
    "print(hasil)"
   ]
  },
  {
   "cell_type": "markdown",
   "id": "fad62007",
   "metadata": {},
   "source": [
    "Pembagian"
   ]
  },
  {
   "cell_type": "code",
   "execution_count": 27,
   "id": "50508daf",
   "metadata": {},
   "outputs": [],
   "source": [
    "matrik_a = np.array([[1, 2, 3],[4, 5, 6],[7, 8, 9]])"
   ]
  },
  {
   "cell_type": "code",
   "execution_count": 28,
   "id": "f05017ac",
   "metadata": {},
   "outputs": [],
   "source": [
    "matrix_b = np.array([[3,2,1],[6,5,4],[9,8,7]])"
   ]
  },
  {
   "cell_type": "code",
   "execution_count": 29,
   "id": "d259d6bd",
   "metadata": {},
   "outputs": [
    {
     "name": "stdout",
     "output_type": "stream",
     "text": [
      "[[0.33333333 1.         3.        ]\n",
      " [0.66666667 1.         1.5       ]\n",
      " [0.77777778 1.         1.28571429]]\n"
     ]
    }
   ],
   "source": [
    "hasil = matrik_a / matrix_b\n",
    "print(hasil)"
   ]
  },
  {
   "cell_type": "markdown",
   "id": "1fe0e291",
   "metadata": {},
   "source": [
    "# TRANSPOSE MATRIX DENGAN NUMPY"
   ]
  },
  {
   "cell_type": "code",
   "execution_count": 30,
   "id": "1c074702",
   "metadata": {},
   "outputs": [],
   "source": [
    "import numpy as np "
   ]
  },
  {
   "cell_type": "code",
   "execution_count": 31,
   "id": "3c4e41cc",
   "metadata": {},
   "outputs": [],
   "source": [
    "matrix_a = np.array([[1,2,3],[4,5,6],[7,8,9]])"
   ]
  },
  {
   "cell_type": "code",
   "execution_count": 32,
   "id": "eb6ab944",
   "metadata": {},
   "outputs": [
    {
     "name": "stdout",
     "output_type": "stream",
     "text": [
      "Matrix awal: \n",
      "[[1 2 3]\n",
      " [4 5 6]\n",
      " [7 8 9]]\n"
     ]
    }
   ],
   "source": [
    "print(\"Matrix awal: \")\n",
    "print(matrix_a)"
   ]
  },
  {
   "cell_type": "code",
   "execution_count": 33,
   "id": "aab71f01",
   "metadata": {},
   "outputs": [
    {
     "name": "stdout",
     "output_type": "stream",
     "text": [
      "Matrix kebalikan: \n",
      "[[1 4 7]\n",
      " [2 5 8]\n",
      " [3 6 9]]\n"
     ]
    }
   ],
   "source": [
    "hasil = matrix_a.transpose()\n",
    "print(\"Matrix kebalikan: \")\n",
    "print(hasil)"
   ]
  },
  {
   "cell_type": "markdown",
   "id": "3248a27f",
   "metadata": {},
   "source": [
    "# MENGUBAH BENTUK UKURAN MATRIX"
   ]
  },
  {
   "cell_type": "code",
   "execution_count": 34,
   "id": "0eb20c13",
   "metadata": {},
   "outputs": [],
   "source": [
    "import numpy as np"
   ]
  },
  {
   "cell_type": "code",
   "execution_count": 35,
   "id": "1eefc77a",
   "metadata": {},
   "outputs": [],
   "source": [
    "matrix_a = np.array([1,2,3,4,5,6])"
   ]
  },
  {
   "cell_type": "code",
   "execution_count": 37,
   "id": "b1f455d8",
   "metadata": {},
   "outputs": [
    {
     "name": "stdout",
     "output_type": "stream",
     "text": [
      "Matrix awal: \n",
      "[1 2 3 4 5 6]\n",
      "Ukuran =  (6,)\n"
     ]
    }
   ],
   "source": [
    "print(\"Matrix awal: \")\n",
    "print(matrix_a)\n",
    "print(\"Ukuran = \", matrix_a.shape)"
   ]
  },
  {
   "cell_type": "code",
   "execution_count": 38,
   "id": "dd43a397",
   "metadata": {},
   "outputs": [
    {
     "name": "stdout",
     "output_type": "stream",
     "text": [
      "Mengubah ke 3x2: \n",
      "[[1 2]\n",
      " [3 4]\n",
      " [5 6]]\n",
      "Ukuran =  (3, 2)\n"
     ]
    }
   ],
   "source": [
    "hasil = matrix_a.reshape(3,2)\n",
    "print(\"Mengubah ke 3x2: \")\n",
    "print(hasil)\n",
    "print(\"Ukuran = \",hasil.shape)"
   ]
  },
  {
   "cell_type": "markdown",
   "id": "d577b6de",
   "metadata": {},
   "source": [
    "# MENGUBAH MATRIX KE LIST VEKTOR"
   ]
  },
  {
   "cell_type": "code",
   "execution_count": 39,
   "id": "070a1e59",
   "metadata": {},
   "outputs": [],
   "source": [
    "import numpy as np"
   ]
  },
  {
   "cell_type": "code",
   "execution_count": 45,
   "id": "eb8121be",
   "metadata": {},
   "outputs": [],
   "source": [
    "matrix_a = np.array([[1,2,3],[4,5,6],[7,8,9]])"
   ]
  },
  {
   "cell_type": "code",
   "execution_count": 46,
   "id": "b4f4b902",
   "metadata": {},
   "outputs": [
    {
     "name": "stdout",
     "output_type": "stream",
     "text": [
      "Matrix awal: \n",
      "[[1 2 3]\n",
      " [4 5 6]\n",
      " [7 8 9]]\n",
      "Ukuran =  (3, 3)\n"
     ]
    }
   ],
   "source": [
    "print(\"Matrix awal: \")\n",
    "print(matrix_a)\n",
    "print(\"Ukuran = \", matrix_a.shape)"
   ]
  },
  {
   "cell_type": "code",
   "execution_count": 42,
   "id": "1f89a346",
   "metadata": {},
   "outputs": [],
   "source": [
    "hasil = matrix_a.flatten()"
   ]
  },
  {
   "cell_type": "code",
   "execution_count": 47,
   "id": "515918cf",
   "metadata": {},
   "outputs": [
    {
     "name": "stdout",
     "output_type": "stream",
     "text": [
      "Matrix setelah di-flatten: \n",
      "[1 2 3 4 5 6 7 8 9]\n",
      "Ukuran =  (9,)\n"
     ]
    }
   ],
   "source": [
    "print(\"Matrix setelah di-flatten: \")\n",
    "print(hasil)\n",
    "print(\"Ukuran = \", hasil.shape)"
   ]
  },
  {
   "cell_type": "markdown",
   "id": "1a6f8dca",
   "metadata": {},
   "source": [
    "# FUNGSI PENGOLAHAN DATA DI NUMPY "
   ]
  },
  {
   "cell_type": "code",
   "execution_count": 48,
   "id": "313e3917",
   "metadata": {},
   "outputs": [],
   "source": [
    "import numpy as np"
   ]
  },
  {
   "cell_type": "code",
   "execution_count": 49,
   "id": "089eb5c5",
   "metadata": {},
   "outputs": [],
   "source": [
    "nilai_siswa = np.array([55,43,98,76,65,77,65,90])"
   ]
  },
  {
   "cell_type": "code",
   "execution_count": 50,
   "id": "27c2dc96",
   "metadata": {},
   "outputs": [
    {
     "name": "stdout",
     "output_type": "stream",
     "text": [
      "Nilai maksimal =  98\n"
     ]
    }
   ],
   "source": [
    "print(\"Nilai maksimal = \", nilai_siswa.max())"
   ]
  },
  {
   "cell_type": "code",
   "execution_count": 51,
   "id": "7e3828b7",
   "metadata": {},
   "outputs": [
    {
     "name": "stdout",
     "output_type": "stream",
     "text": [
      "Nilai rata-rata =  71.125\n"
     ]
    }
   ],
   "source": [
    "print(\"Nilai rata-rata = \", nilai_siswa.mean())"
   ]
  },
  {
   "cell_type": "code",
   "execution_count": 52,
   "id": "34551c2b",
   "metadata": {},
   "outputs": [
    {
     "name": "stdout",
     "output_type": "stream",
     "text": [
      "Total nilai =  569\n"
     ]
    }
   ],
   "source": [
    "print(\"Total nilai = \", nilai_siswa.sum())"
   ]
  },
  {
   "cell_type": "code",
   "execution_count": 53,
   "id": "e062c166",
   "metadata": {},
   "outputs": [
    {
     "name": "stdout",
     "output_type": "stream",
     "text": [
      "Standar Deviasi =  16.81842367762211\n"
     ]
    }
   ],
   "source": [
    "print(\"Standar Deviasi = \", nilai_siswa.std())"
   ]
  },
  {
   "cell_type": "code",
   "execution_count": 54,
   "id": "8630a6b2",
   "metadata": {},
   "outputs": [
    {
     "name": "stdout",
     "output_type": "stream",
     "text": [
      "Nilai minimal =  43\n"
     ]
    }
   ],
   "source": [
    "print(\"Nilai minimal = \", nilai_siswa.min())"
   ]
  },
  {
   "cell_type": "markdown",
   "id": "f480ff4c",
   "metadata": {},
   "source": [
    "# COPY & VIEWS ARRAY DI NUMPY"
   ]
  },
  {
   "cell_type": "markdown",
   "id": "ab4f34fb",
   "metadata": {},
   "source": [
    "Perbedaan copy dan views\n",
    "\n",
    "copy : perubahan tidak akan mempengaruhi array aslinya\n",
    "views : perubahan akan mempengaruhi array aslinya"
   ]
  },
  {
   "cell_type": "code",
   "execution_count": 55,
   "id": "77bd2d09",
   "metadata": {},
   "outputs": [],
   "source": [
    "import numpy as np"
   ]
  },
  {
   "cell_type": "code",
   "execution_count": 56,
   "id": "5f14577c",
   "metadata": {},
   "outputs": [],
   "source": [
    "arr = np.array([1,2,3,4,5])"
   ]
  },
  {
   "cell_type": "code",
   "execution_count": 58,
   "id": "e9c625f2",
   "metadata": {},
   "outputs": [],
   "source": [
    "#copy array menggunakan metode copy()\n",
    "arr_copy = arr.copy()"
   ]
  },
  {
   "cell_type": "code",
   "execution_count": 59,
   "id": "0b34629f",
   "metadata": {},
   "outputs": [],
   "source": [
    "#Membuat view array menggunakan metode view()\n",
    "arr_view = arr.view()"
   ]
  },
  {
   "cell_type": "code",
   "execution_count": 60,
   "id": "c4c16dfe",
   "metadata": {},
   "outputs": [],
   "source": [
    "#Mengubah elemen pada array asli\n",
    "arr[0] = 10"
   ]
  },
  {
   "cell_type": "code",
   "execution_count": 61,
   "id": "725f3fcf",
   "metadata": {},
   "outputs": [
    {
     "name": "stdout",
     "output_type": "stream",
     "text": [
      "Array asli:  [10  2  3  4  5]\n",
      "Array copy:  [1 2 3 4 5]\n",
      "Array view:  [10  2  3  4  5]\n"
     ]
    }
   ],
   "source": [
    "#Menampilkan array asl,copy,dan view\n",
    "print(\"Array asli: \",arr)\n",
    "print(\"Array copy: \",arr_copy)\n",
    "print(\"Array view: \",arr_view)"
   ]
  }
 ],
 "metadata": {
  "kernelspec": {
   "display_name": "Python 3 (ipykernel)",
   "language": "python",
   "name": "python3"
  },
  "language_info": {
   "codemirror_mode": {
    "name": "ipython",
    "version": 3
   },
   "file_extension": ".py",
   "mimetype": "text/x-python",
   "name": "python",
   "nbconvert_exporter": "python",
   "pygments_lexer": "ipython3",
   "version": "3.11.0"
  }
 },
 "nbformat": 4,
 "nbformat_minor": 5
}
